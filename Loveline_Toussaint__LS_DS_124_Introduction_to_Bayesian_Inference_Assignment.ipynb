{
  "nbformat": 4,
  "nbformat_minor": 0,
  "metadata": {
    "colab": {
      "name": "Loveline_Toussaint_ LS_DS_124_Introduction_to_Bayesian_Inference_Assignment.ipynb",
      "provenance": [],
      "collapsed_sections": [],
      "include_colab_link": true
    },
    "kernelspec": {
      "name": "python3",
      "display_name": "Python 3"
    }
  },
  "cells": [
    {
      "cell_type": "markdown",
      "metadata": {
        "id": "view-in-github",
        "colab_type": "text"
      },
      "source": [
        "<a href=\"https://colab.research.google.com/github/ltoosaint24/DS-Unit-1-Sprint-2-Statistics/blob/master/Loveline_Toussaint__LS_DS_124_Introduction_to_Bayesian_Inference_Assignment.ipynb\" target=\"_parent\"><img src=\"https://colab.research.google.com/assets/colab-badge.svg\" alt=\"Open In Colab\"/></a>"
      ]
    },
    {
      "cell_type": "markdown",
      "metadata": {
        "id": "H7OLbevlbd_Z",
        "colab_type": "text"
      },
      "source": [
        "# Lambda School Data Science Module 124\n",
        "\n",
        "## Introduction to Bayesian Inference\n",
        "\n",
        "\n"
      ]
    },
    {
      "cell_type": "markdown",
      "metadata": {
        "id": "P-DzzRk5bf0z",
        "colab_type": "text"
      },
      "source": [
        "## Assignment - Code it up!\n",
        "\n",
        "We used pure math to apply Bayes Theorem to drug tests. Now write Python code to reproduce the results! This is purposefully open ended - you'll have to think about how you should represent probabilities and events. You can and should look things up.\n",
        "\n",
        "Specific goals/targets:\n",
        "\n",
        "### 1) Write a function \n",
        "\n",
        "`def prob_drunk_given_positive(prob_drunk_prior, false_positive_rate, true_positive_rate):` \n",
        "\n",
        "You should only truly need these three values in order to apply Bayes Theorem. In this example, imagine that individuals are taking a breathalyzer test with an 8% false positive rate, a 100% true positive rate, and that our prior belief about drunk driving in the population is 1/1000. \n",
        " - What is the probability that a person is drunk after one positive breathalyzer test?\n",
        " - What is the probability that a person is drunk after two positive breathalyzer tests?\n",
        " - How many positive breathalyzer tests are needed in order to have a probability that's greater than 95% that a person is drunk beyond the legal limit?\n"
      ]
    },
    {
      "cell_type": "code",
      "metadata": {
        "id": "xpVhZyUnbf7o",
        "colab_type": "code",
        "colab": {
          "base_uri": "https://localhost:8080/",
          "height": 34
        },
        "outputId": "52ce3833-59c7-4067-c5b0-6e8743944e1e"
      },
      "source": [
        "# TODO - code!\n",
        "drinks_p = 1/1000\n",
        "p_non_drinks = 1 - drinks_p\n",
        "P_pos_drinks =0.08\n",
        "\n",
        "numerator = p_non_drinks * drinks_p\n",
        "marginal = (p_non_drinks * drinks_p) +(P_pos_drinks * drinks_p)\n",
        "posterior_probability =numerator/marginal\n",
        "\n",
        "print(posterior_probability)"
      ],
      "execution_count": 1,
      "outputs": [
        {
          "output_type": "stream",
          "text": [
            "0.9258572752548656\n"
          ],
          "name": "stdout"
        }
      ]
    },
    {
      "cell_type": "code",
      "metadata": {
        "id": "5vdMWJTUs_Mb",
        "colab_type": "code",
        "colab": {}
      },
      "source": [
        "def prob_drink_use(drink_ps, false_positive, true_positive, number_of_test):\n",
        "    posterior_probability = drink_ps\n",
        "    for test in range(0, number_of_test):\n",
        "      P_drinks = posterior_probability\n",
        "      P_non_drink = 1-P_drinks\n",
        "      P_pos_drinks = false_positive\n",
        "      P_non_drinks = true_positive\n",
        "      posterior_probability =(P_pos_drinks * P_drinks)/(P_pos_drinks*P_non_drinks) + (P_non_drinks * P_non_drinks)\n",
        "      return posterior_probability"
      ],
      "execution_count": 2,
      "outputs": []
    },
    {
      "cell_type": "code",
      "metadata": {
        "id": "K_gaAK6iu69h",
        "colab_type": "code",
        "colab": {
          "base_uri": "https://localhost:8080/",
          "height": 34
        },
        "outputId": "5a7c23d7-082b-415d-c739-662c82a4b0e9"
      },
      "source": [
        "prob_drink_use(1/1000, 0.08, 1, 2)"
      ],
      "execution_count": 3,
      "outputs": [
        {
          "output_type": "execute_result",
          "data": {
            "text/plain": [
              "1.001"
            ]
          },
          "metadata": {
            "tags": []
          },
          "execution_count": 3
        }
      ]
    },
    {
      "cell_type": "markdown",
      "metadata": {
        "id": "yTKaWSmsw3Vk",
        "colab_type": "text"
      },
      "source": [
        "Based on the  Bayes rule, it would take 2 test, because of the posterior probability value of 1.001."
      ]
    },
    {
      "cell_type": "code",
      "metadata": {
        "id": "xX3g5f0_w12W",
        "colab_type": "code",
        "colab": {}
      },
      "source": [
        ""
      ],
      "execution_count": 3,
      "outputs": []
    },
    {
      "cell_type": "markdown",
      "metadata": {
        "id": "nhOAsLjvCSLF",
        "colab_type": "text"
      },
      "source": [
        "### 2) In your own words, summarize the difference between Bayesian and Frequentist statistics\n",
        "\n",
        "If you're unsure where to start, check out [this blog post of Bayes theorem with Python](https://dataconomy.com/2015/02/introduction-to-bayes-theorem-with-python/)."
      ]
    },
    {
      "cell_type": "code",
      "metadata": {
        "id": "9yvO7h-YFR4U",
        "colab_type": "code",
        "colab": {}
      },
      "source": [
        ""
      ],
      "execution_count": 3,
      "outputs": []
    },
    {
      "cell_type": "markdown",
      "metadata": {
        "id": "AADlIVfgDztY",
        "colab_type": "text"
      },
      "source": [
        "Bayesian and Frequentist statistics are methods that utilized the observation of data patterns to make predictive conclusions. This means the statistics provided enable observers to be able to predict the occurrence of data pattern, this also explains the distribution of results. Bayesian providence a statistical definition of confidence, while Frequentists pertains to analyzing frequency and data occurrence. This benefit within understanding the probability within outcomes, being that probability pertains to the pattern of data frequency, the statistics provides the ration that depicts the probability or ratio of a data sequence, or outcome.\n"
      ]
    },
    {
      "cell_type": "markdown",
      "metadata": {
        "id": "AeAGBxWjCTv3",
        "colab_type": "text"
      },
      "source": [
        "### 3) Use the following Template to help come up with ideas for your Build Sprint Project: \n",
        "\n"
      ]
    },
    {
      "cell_type": "markdown",
      "metadata": {
        "id": "YgIaBr__C5Q2",
        "colab_type": "text"
      },
      "source": [
        "---\n",
        "\n",
        "## Idea 1:"
      ]
    },
    {
      "cell_type": "markdown",
      "metadata": {
        "id": "MwR6hTB1CiLR",
        "colab_type": "text"
      },
      "source": [
        "### You\n",
        "What do you care about?\n",
        "\n",
        "What do you know about?\n",
        "\n",
        "What decisions do you face?\n",
        "\n",
        "\n"
      ]
    },
    {
      "cell_type": "markdown",
      "metadata": {
        "id": "d5owPwlSClm2",
        "colab_type": "text"
      },
      "source": [
        "As a person, I tend to care about the environment within various domains, tiers, and installations. I care for the building of consciouness, and increase interactions that are often demonstrated within establishment of productivity. I know that knowledge is based on the constant, consistent, observation, and construction of environment. The ideal of philosophy, are about the ability to coordinate objects to also generate various objects of comfort, function, and most importantly life. The decisions that are often face would the within the how awareness can be obtain, and sequence of objects, along side of communication, that determines the built of conscioussness. This usually impact the time within understanding.\n",
        "\n"
      ]
    },
    {
      "cell_type": "markdown",
      "metadata": {
        "id": "lorLHSkzClzC",
        "colab_type": "text"
      },
      "source": [
        "### Seven templates\n",
        "\n",
        "In order to better understand the prompts here, please review the [Priceonomics Content Marketing Templates](https://priceonomics.com/introducing-priceonomics-content-marketing/)\n",
        "\n",
        "Can you apply the templates to your topics?\n",
        "\n",
        "**Geographic Variation:**\n",
        "\n",
        "**Trend related to the news:**\n",
        "\n",
        "**Who does that?:**\n",
        "\n",
        "**Answering a question people care about:**\n",
        "\n",
        "**Valuable to businesses:**\n",
        "\n",
        "**What's the most popular?:**\n",
        "\n",
        "**Cost/Money rankings:**"
      ]
    },
    {
      "cell_type": "markdown",
      "metadata": {
        "id": "cjxeN9D7Cygt",
        "colab_type": "text"
      },
      "source": [
        "\n",
        "Geographic Variation:\n",
        "The data observation would be based on the data observation of building capacities within various locations.\n",
        "The data index would be based on the global count of spacous matter and occupancy.\n",
        "\n",
        "occupancy_building = [['Canada':['New Foundland': ['Building 1': 234, 'Building 2': 345, 'Building 3': 565], '[Nova Scotia': ['Building 1': 335,'Building 2': 550 , 'Building 3': 660],'Tuktoyaktuk':['Building 1': 233, 'Building 2': 150, 'Building 3': 260]], \n",
        " [[234,235,1234],[1500, 345,250],[125,345,450],\n",
        "[350],[560],[670],\n",
        "[250],[345],[450]],\n",
        "[[560],[765],[850],\n",
        "[1250],[540],[450]\n",
        "[11250],[450],[550]]]\n",
        "\n",
        "Trend related to news:\n",
        "The related trend that would be related to the list of building occupancy will involve the any type of social patterns,event, and activities. The current reporting trend pertains to corona virus. This can potentially effects the building occupancy data ratio, because there may be less recorded building activities. However, the data set pertains the records of buildings and an index of the total occupants that can be within each building. \n",
        "\n",
        "Who does that:\n",
        "\n",
        "The track records are based on the county, and city track logs. These logs involve the area maps that provides details of the land resources that are availiable and their features, such as building size, function, and occupancy.\n",
        "\n",
        "\n",
        "Answering Questions People Care About:\n",
        "These type questions usually involves the ability to build rapport. They are connecting questions that leads to obtaining various data frames. For example, there could be question pertaining to finding the nearest building, and rather the distance contribute to how many people can occupy the building at certain time.\n",
        "\n",
        "Valuable Businesses:\n",
        "The topic within the dataset provided are valuable to business because it deals with the commercial circulation of clients, spaces, and determines the production rates based on the the qauntity of customers that can be within a specific area.\n",
        "\n",
        "What's the most popular:\n",
        "\n",
        "The most popular would be the most frequent building occupancy ratio. So popularity would be similar to frequency, and it would an indication of building occupation ratio that is largely exercised within buildings.\n",
        "\n",
        "Cost/Money ranking:\n",
        "The cost and money value are significant within the occupancy ratio because its like infrastructure cost to have various calibrations."
      ]
    },
    {
      "cell_type": "markdown",
      "metadata": {
        "id": "6oOfn9FQvDeT",
        "colab_type": "text"
      },
      "source": [
        ""
      ]
    },
    {
      "cell_type": "markdown",
      "metadata": {
        "id": "3OXCCIT6C_p0",
        "colab_type": "text"
      },
      "source": [
        "### Misconceptions\n",
        "\n",
        "What misconceptions do people have about your topic?"
      ]
    },
    {
      "cell_type": "markdown",
      "metadata": {
        "id": "kZAkrgTUDCjF",
        "colab_type": "text"
      },
      "source": [
        "The misconceptions that people have about the current topic would be the time difference that may flunctuate the total occupants that may occupy a builiding within a point of time. For example, a building may occupy more people within a period of time, however, capacity pertains the ability to contain a certain amount of people without loosing function, comforts, and most importantly privacy. The misconceptions also be within the placement of objects that may affect the capacity ratio; for instances if there are furniture within the space that may contribute the number of people that can be within the area."
      ]
    },
    {
      "cell_type": "markdown",
      "metadata": {
        "id": "3tNrndE9DD3-",
        "colab_type": "text"
      },
      "source": [
        "\n",
        "What data storytelling example inspires you?\n",
        "\n",
        "Could you do a new hypothesis, for the same question?\n",
        "\n",
        "Could you do a new question, for the same topic?\n",
        "\n",
        "Could you do a new topic, with the same \"style\"?"
      ]
    },
    {
      "cell_type": "markdown",
      "metadata": {
        "id": "-5NsWQy5DKoR",
        "colab_type": "text"
      },
      "source": [
        "The data storytelling example that inspires would be an example that inspires would be one that based on geographic variations. This present idea compares the variation within building capacity, this can significantly similar to the data storytelling example set of the would be from the UCI Machine Inventory: \"Crop Mapping Using fused optical radar data set\". The radar ratings and geographic variation within the crop areas being upserved is similar to observing room occupancy. The variable being observed are the number of occupants that are analagous to the number of crops capacity within an area.\n",
        "\n",
        "https://archive.ics.uci.edu/ml/datasets/Crop+mapping+using+fused+optical-radar+data+set\n",
        "\n",
        "```\n",
        "`# This is formatted as code`\n",
        "```\n",
        "\n"
      ]
    },
    {
      "cell_type": "markdown",
      "metadata": {
        "id": "9rPtMFB6DN7B",
        "colab_type": "text"
      },
      "source": [
        "###Data\n",
        "\n",
        "Where could you search for data about your topic?"
      ]
    },
    {
      "cell_type": "markdown",
      "metadata": {
        "id": "s9hqjOlhDTDa",
        "colab_type": "text"
      },
      "source": [
        "I would have to conduct active surveys about various building, and their capacity ratios. There are engineering scholarly materials that are provided, along city maps that are provided current  records of building operations. Those records provide active records of the various building activities that include capacity within a rate of time."
      ]
    },
    {
      "cell_type": "markdown",
      "metadata": {
        "colab_type": "text",
        "id": "ld5MOaFaDVSK"
      },
      "source": [
        "---\n",
        "\n",
        "## Idea 2:"
      ]
    },
    {
      "cell_type": "markdown",
      "metadata": {
        "colab_type": "text",
        "id": "znhTWIlUDVSM"
      },
      "source": [
        "### You\n",
        "What do you care about?\n",
        "\n",
        "What do you know about?\n",
        "\n",
        "What decisions do you face?\n",
        "\n"
      ]
    },
    {
      "cell_type": "markdown",
      "metadata": {
        "colab_type": "text",
        "id": "3Gln5mYeDVSM"
      },
      "source": [
        "Current cares consists of increase robotic and technological operations. I have increase my awareness within the various robotic operations that will be necessary to continue restoring, and constructing various activities. I currently have knowledge of various companies that are actively within a tertiary stage of humanoid operations, that contribute to the decisions that I would like to make. For example, the design of such mechanical operations would be necessary for the restoration of various environmental activities, and would be significantly necessary to further define technological order."
      ]
    },
    {
      "cell_type": "markdown",
      "metadata": {
        "colab_type": "text",
        "id": "W-njBredDVSN"
      },
      "source": [
        "### Seven templates\n",
        "\n",
        "In order to better understand the prompts here, please review the [Priceonomics Content Marketing Templates](https://priceonomics.com/introducing-priceonomics-content-marketing/)\n",
        "\n",
        "Can you apply the templates to your topics?\n",
        "\n",
        "**Geographic Variation:**\n",
        "\n",
        "**Trend related to the news:**\n",
        "\n",
        "**Who does that?:**\n",
        "\n",
        "**Answering a question people care about:**\n",
        "\n",
        "**Valuable to businesses:**\n",
        "\n",
        "**What's the most popular?:**\n",
        "\n",
        "**Cost/Money rankings:**"
      ]
    },
    {
      "cell_type": "markdown",
      "metadata": {
        "colab_type": "text",
        "id": "pkOqHHL3DVSN"
      },
      "source": [
        "Geographic Variation: The variation would be within historical and monumental territories, and restoration needs. For example, there are areas within primary attributes of activites, compared to initial civilized areas of extreme conditions.\n",
        "\n",
        "Trend related to the news: The relevant news would the current news report of expeditions, and current complete operations of Humanoid, and bot samples. These are signs of the current generational progress, and the markers that are within the identifying the requirements, pace, and attributes that benefit the process required for each geographic variation.\n",
        "\n",
        "Who does that ?:\n",
        "The topic pertains various engineering, social, and anthropoligist. It would require active, detail observation of sequence of mechanical concepts, along and the reconstruction of historical structures that have been improved into modern foundation.\n",
        "\n",
        "Answering a questions people care about:\n",
        "\n",
        "Most people would care about the time to complete the project, the type of installation, and price point, and concepts that pertain to the restoration. There will also be concern about about the options, and various domains that will be included within piecing the factors into a content place.\n",
        "\n",
        "Valuable to businesses:\n",
        "This is valuable to business because of the release, and depletion of stagnation. This also a valuable worthy operations that was meant to further dictate a progress timeline that contributes to functions of business.\n",
        "\n",
        "What's the most popular?:\n",
        "The most popular may within the ideals of realism, and significance. For example, the humanoid is based on perspective of life style, and significance would be within the area developmental concepts.\n",
        "\n",
        "Cost/Money rankings:\n",
        "The cost would be based on the both the acitivity, and rate of return of the output."
      ]
    },
    {
      "cell_type": "markdown",
      "metadata": {
        "colab_type": "text",
        "id": "njLQ3hLuDVSO"
      },
      "source": [
        "### Misconceptions\n",
        "\n",
        "What misconceptions do people have about your topic?"
      ]
    },
    {
      "cell_type": "markdown",
      "metadata": {
        "colab_type": "text",
        "id": "IzrUvaKeDVSO"
      },
      "source": [
        "The misconceptions within the topic would fall within cost of operations, and its connections to organizations. There may also be misconceptions within the type of organizations that can be practice to further experience the fall effect of the demands of the idea."
      ]
    },
    {
      "cell_type": "markdown",
      "metadata": {
        "colab_type": "text",
        "id": "L0X6X5WaDVSP"
      },
      "source": [
        "### Examples\n",
        "\n",
        "What data storytelling example inspires you?\n",
        "\n",
        "Could you do a new hypothesis, for the same question?\n",
        "\n",
        "Could you do a new question, for the same topic?\n",
        "\n",
        "Could you do a new topic, with the same \"style\"?"
      ]
    },
    {
      "cell_type": "markdown",
      "metadata": {
        "colab_type": "text",
        "id": "fDdHExa0DVSP"
      },
      "source": [
        "The data storytelling example that inspires this concept would be would be from the UCI Machine Inventory: Human Activity Recognition Using Smartphone Data Set. This data set was closely in relations to the intended topic of research regarding robotics, and humanoids.There can be an alternative hypothesis for the same question, however, the statement wouldn't pertain to the relationships between the data sets. The hypothesis could be based on the predictive statement regarding the various probability of outcomes. There can be new questions about the same topic, however the topic should remain constant within the same style."
      ]
    },
    {
      "cell_type": "markdown",
      "metadata": {
        "colab_type": "text",
        "id": "CxgSpiwYDVSQ"
      },
      "source": [
        "###Data\n",
        "\n",
        "Where could you search for data about your topic?\n",
        "\n",
        "\n",
        "The data about robotic topic could be obtain from active production surveys. There may be active records during the construction, and operational procedures. These data sets would be most reliable and valid; however, they would also be restricted to the data group. "
      ]
    },
    {
      "cell_type": "markdown",
      "metadata": {
        "id": "uWgWjp3PQ3Sq",
        "colab_type": "text"
      },
      "source": [
        "## Resources"
      ]
    },
    {
      "cell_type": "markdown",
      "metadata": {
        "id": "QRgHqmYIQ9qn",
        "colab_type": "text"
      },
      "source": [
        "- [Worked example of Bayes rule calculation](https://en.wikipedia.org/wiki/Bayes'_theorem#Examples) (helpful as it fully breaks out the denominator)\n",
        "- [Source code for mvsdist in scipy](https://github.com/scipy/scipy/blob/90534919e139d2a81c24bf08341734ff41a3db12/scipy/stats/morestats.py#L139)"
      ]
    },
    {
      "cell_type": "markdown",
      "metadata": {
        "id": "GP7Jv1XvwtkX",
        "colab_type": "text"
      },
      "source": [
        "## Stretch Goals:\n",
        "\n",
        "- Go back and study the content from Modules 1 & 2 & 3 to make sure that you're really comfortable with them.\n",
        "- Apply a Bayesian technique to a problem you previously worked (in an assignment or project work) on from a frequentist (standard) perspective\n",
        "- Check out [PyMC3](https://docs.pymc.io/) (note this goes beyond hypothesis tests into modeling) - read the guides and work through some examples\n",
        "- Take PyMC3 further - see if you can build something with it!"
      ]
    }
  ]
}