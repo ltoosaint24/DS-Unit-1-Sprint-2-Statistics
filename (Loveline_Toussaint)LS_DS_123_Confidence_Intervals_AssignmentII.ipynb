{
  "nbformat": 4,
  "nbformat_minor": 0,
  "metadata": {
    "colab": {
      "name": "(Loveline_Toussaint)LS_DS_123_Confidence_Intervals_Assignment.ipynb",
      "provenance": [],
      "collapsed_sections": [],
      "include_colab_link": true
    },
    "kernelspec": {
      "name": "python3",
      "display_name": "Python 3"
    }
  },
  "cells": [
    {
      "cell_type": "markdown",
      "metadata": {
        "id": "view-in-github",
        "colab_type": "text"
      },
      "source": [
        "<a href=\"https://colab.research.google.com/github/ltoosaint24/DS-Unit-1-Sprint-2-Statistics/blob/master/(Loveline_Toussaint)LS_DS_123_Confidence_Intervals_AssignmentII.ipynb\" target=\"_parent\"><img src=\"https://colab.research.google.com/assets/colab-badge.svg\" alt=\"Open In Colab\"/></a>"
      ]
    },
    {
      "cell_type": "markdown",
      "metadata": {
        "id": "g_c3L9CeANiJ"
      },
      "source": [
        "## Confidence Intervals\n",
        "\n",
        "Soft drinks like Coke and Pepsi are manufactured to have a standard caffeine content. For example, a 12-oz serving of Coke has 34mg of caffeine, and a 12-oz serving of Pepsi has 37.6mg of caffeine. However, fountain soft drinks are typically mixed in individual restaurant dispensers, so it is more difficult to maintain a standard level of caffeine per serving. In this study, researchers randomly sampled Coke, Diet Coke, Pepsi, and Diet Pepsi at a set of franchise restaurants and measured the caffeine content in 12oz of each soft drink2. The data is found in the Soda.xlsx dataset.\n",
        "\n",
        "Because individuals can be sensitive to caffeine – and because the manufacturers are interested in product consistency – we wish to estimate the mean caffeine content in 12oz of Coke served in franchise restaurants using a 95% confidence interval. \n",
        "\n",
        "You can find the Coke data here: 'https://raw.githubusercontent.com/Chelsea-Myers/Lambda-Intro/master/Coke.csv'\n",
        "\n",
        "The first variable is the sample ID and the second variable is the caffeine content in the 12-oz sample measured in mg.\n",
        "\n",
        "Source: A.N. Garand and L.N. Bell (1997). \"Caffeine Content of Fountain and Private-Label Store Brand Carbonated Beverages,\" Journal of the American Dietetic Association, Vol. 97, #2, pp. 179-182.\n",
        "\n",
        "\n"
      ]
    },
    {
      "cell_type": "markdown",
      "metadata": {
        "id": "oaJpAIakUo31"
      },
      "source": [
        "###1) Load the dataset and print the first few rows"
      ]
    },
    {
      "cell_type": "code",
      "metadata": {
        "id": "yXwMJQGrAIbO"
      },
      "source": [
        "#Import statements\n",
        "\n",
        "import pandas as pd\n",
        "import numpy as numy\n",
        "import matplotlib.pyplot as plt\n",
        "from scipy.stats import t\n",
        "from scipy import stats"
      ],
      "execution_count": 1,
      "outputs": []
    },
    {
      "cell_type": "markdown",
      "metadata": {
        "id": "K-kqb6NyM6fL"
      },
      "source": [
        ""
      ]
    },
    {
      "cell_type": "code",
      "metadata": {
        "id": "YXb_glcqMz96",
        "outputId": "ba50ae1a-d8f7-4178-fea2-e09c682d7057",
        "colab": {
          "base_uri": "https://localhost:8080/",
          "height": 1000
        }
      },
      "source": [
        "url =  'https://raw.githubusercontent.com/Chelsea-Myers/Lambda-Intro/master/Coke.csv'\n",
        "coffee_imp = pd.read_csv(url)\n",
        "coffee_imp"
      ],
      "execution_count": 2,
      "outputs": [
        {
          "output_type": "execute_result",
          "data": {
            "text/html": [
              "<div>\n",
              "<style scoped>\n",
              "    .dataframe tbody tr th:only-of-type {\n",
              "        vertical-align: middle;\n",
              "    }\n",
              "\n",
              "    .dataframe tbody tr th {\n",
              "        vertical-align: top;\n",
              "    }\n",
              "\n",
              "    .dataframe thead th {\n",
              "        text-align: right;\n",
              "    }\n",
              "</style>\n",
              "<table border=\"1\" class=\"dataframe\">\n",
              "  <thead>\n",
              "    <tr style=\"text-align: right;\">\n",
              "      <th></th>\n",
              "      <th>Drink</th>\n",
              "      <th>Caffeine</th>\n",
              "    </tr>\n",
              "  </thead>\n",
              "  <tbody>\n",
              "    <tr>\n",
              "      <th>0</th>\n",
              "      <td>1</td>\n",
              "      <td>47.32</td>\n",
              "    </tr>\n",
              "    <tr>\n",
              "      <th>1</th>\n",
              "      <td>2</td>\n",
              "      <td>43.78</td>\n",
              "    </tr>\n",
              "    <tr>\n",
              "      <th>2</th>\n",
              "      <td>3</td>\n",
              "      <td>48.12</td>\n",
              "    </tr>\n",
              "    <tr>\n",
              "      <th>3</th>\n",
              "      <td>4</td>\n",
              "      <td>43.25</td>\n",
              "    </tr>\n",
              "    <tr>\n",
              "      <th>4</th>\n",
              "      <td>5</td>\n",
              "      <td>46.42</td>\n",
              "    </tr>\n",
              "    <tr>\n",
              "      <th>5</th>\n",
              "      <td>6</td>\n",
              "      <td>45.16</td>\n",
              "    </tr>\n",
              "    <tr>\n",
              "      <th>6</th>\n",
              "      <td>7</td>\n",
              "      <td>45.17</td>\n",
              "    </tr>\n",
              "    <tr>\n",
              "      <th>7</th>\n",
              "      <td>8</td>\n",
              "      <td>42.48</td>\n",
              "    </tr>\n",
              "    <tr>\n",
              "      <th>8</th>\n",
              "      <td>9</td>\n",
              "      <td>47.70</td>\n",
              "    </tr>\n",
              "    <tr>\n",
              "      <th>9</th>\n",
              "      <td>10</td>\n",
              "      <td>36.62</td>\n",
              "    </tr>\n",
              "    <tr>\n",
              "      <th>10</th>\n",
              "      <td>11</td>\n",
              "      <td>39.06</td>\n",
              "    </tr>\n",
              "    <tr>\n",
              "      <th>11</th>\n",
              "      <td>12</td>\n",
              "      <td>34.59</td>\n",
              "    </tr>\n",
              "    <tr>\n",
              "      <th>12</th>\n",
              "      <td>13</td>\n",
              "      <td>45.96</td>\n",
              "    </tr>\n",
              "    <tr>\n",
              "      <th>13</th>\n",
              "      <td>14</td>\n",
              "      <td>41.19</td>\n",
              "    </tr>\n",
              "    <tr>\n",
              "      <th>14</th>\n",
              "      <td>15</td>\n",
              "      <td>35.81</td>\n",
              "    </tr>\n",
              "    <tr>\n",
              "      <th>15</th>\n",
              "      <td>16</td>\n",
              "      <td>32.56</td>\n",
              "    </tr>\n",
              "    <tr>\n",
              "      <th>16</th>\n",
              "      <td>17</td>\n",
              "      <td>40.06</td>\n",
              "    </tr>\n",
              "    <tr>\n",
              "      <th>17</th>\n",
              "      <td>18</td>\n",
              "      <td>42.09</td>\n",
              "    </tr>\n",
              "    <tr>\n",
              "      <th>18</th>\n",
              "      <td>19</td>\n",
              "      <td>39.30</td>\n",
              "    </tr>\n",
              "    <tr>\n",
              "      <th>19</th>\n",
              "      <td>20</td>\n",
              "      <td>40.37</td>\n",
              "    </tr>\n",
              "    <tr>\n",
              "      <th>20</th>\n",
              "      <td>21</td>\n",
              "      <td>41.92</td>\n",
              "    </tr>\n",
              "    <tr>\n",
              "      <th>21</th>\n",
              "      <td>22</td>\n",
              "      <td>40.90</td>\n",
              "    </tr>\n",
              "    <tr>\n",
              "      <th>22</th>\n",
              "      <td>23</td>\n",
              "      <td>38.43</td>\n",
              "    </tr>\n",
              "    <tr>\n",
              "      <th>23</th>\n",
              "      <td>24</td>\n",
              "      <td>34.09</td>\n",
              "    </tr>\n",
              "    <tr>\n",
              "      <th>24</th>\n",
              "      <td>25</td>\n",
              "      <td>38.81</td>\n",
              "    </tr>\n",
              "    <tr>\n",
              "      <th>25</th>\n",
              "      <td>26</td>\n",
              "      <td>40.00</td>\n",
              "    </tr>\n",
              "    <tr>\n",
              "      <th>26</th>\n",
              "      <td>27</td>\n",
              "      <td>38.90</td>\n",
              "    </tr>\n",
              "    <tr>\n",
              "      <th>27</th>\n",
              "      <td>28</td>\n",
              "      <td>40.38</td>\n",
              "    </tr>\n",
              "    <tr>\n",
              "      <th>28</th>\n",
              "      <td>29</td>\n",
              "      <td>32.98</td>\n",
              "    </tr>\n",
              "    <tr>\n",
              "      <th>29</th>\n",
              "      <td>30</td>\n",
              "      <td>35.59</td>\n",
              "    </tr>\n",
              "    <tr>\n",
              "      <th>30</th>\n",
              "      <td>31</td>\n",
              "      <td>44.00</td>\n",
              "    </tr>\n",
              "    <tr>\n",
              "      <th>31</th>\n",
              "      <td>32</td>\n",
              "      <td>34.85</td>\n",
              "    </tr>\n",
              "    <tr>\n",
              "      <th>32</th>\n",
              "      <td>33</td>\n",
              "      <td>33.41</td>\n",
              "    </tr>\n",
              "    <tr>\n",
              "      <th>33</th>\n",
              "      <td>34</td>\n",
              "      <td>30.56</td>\n",
              "    </tr>\n",
              "    <tr>\n",
              "      <th>34</th>\n",
              "      <td>35</td>\n",
              "      <td>37.94</td>\n",
              "    </tr>\n",
              "    <tr>\n",
              "      <th>35</th>\n",
              "      <td>36</td>\n",
              "      <td>29.38</td>\n",
              "    </tr>\n",
              "    <tr>\n",
              "      <th>36</th>\n",
              "      <td>37</td>\n",
              "      <td>37.03</td>\n",
              "    </tr>\n",
              "    <tr>\n",
              "      <th>37</th>\n",
              "      <td>38</td>\n",
              "      <td>34.00</td>\n",
              "    </tr>\n",
              "    <tr>\n",
              "      <th>38</th>\n",
              "      <td>39</td>\n",
              "      <td>35.40</td>\n",
              "    </tr>\n",
              "    <tr>\n",
              "      <th>39</th>\n",
              "      <td>40</td>\n",
              "      <td>33.44</td>\n",
              "    </tr>\n",
              "    <tr>\n",
              "      <th>40</th>\n",
              "      <td>41</td>\n",
              "      <td>33.04</td>\n",
              "    </tr>\n",
              "    <tr>\n",
              "      <th>41</th>\n",
              "      <td>42</td>\n",
              "      <td>33.55</td>\n",
              "    </tr>\n",
              "    <tr>\n",
              "      <th>42</th>\n",
              "      <td>43</td>\n",
              "      <td>35.91</td>\n",
              "    </tr>\n",
              "    <tr>\n",
              "      <th>43</th>\n",
              "      <td>44</td>\n",
              "      <td>36.81</td>\n",
              "    </tr>\n",
              "    <tr>\n",
              "      <th>44</th>\n",
              "      <td>45</td>\n",
              "      <td>32.04</td>\n",
              "    </tr>\n",
              "    <tr>\n",
              "      <th>45</th>\n",
              "      <td>46</td>\n",
              "      <td>32.30</td>\n",
              "    </tr>\n",
              "    <tr>\n",
              "      <th>46</th>\n",
              "      <td>47</td>\n",
              "      <td>29.93</td>\n",
              "    </tr>\n",
              "    <tr>\n",
              "      <th>47</th>\n",
              "      <td>48</td>\n",
              "      <td>28.43</td>\n",
              "    </tr>\n",
              "    <tr>\n",
              "      <th>48</th>\n",
              "      <td>49</td>\n",
              "      <td>35.34</td>\n",
              "    </tr>\n",
              "    <tr>\n",
              "      <th>49</th>\n",
              "      <td>50</td>\n",
              "      <td>30.64</td>\n",
              "    </tr>\n",
              "  </tbody>\n",
              "</table>\n",
              "</div>"
            ],
            "text/plain": [
              "    Drink  Caffeine\n",
              "0       1     47.32\n",
              "1       2     43.78\n",
              "2       3     48.12\n",
              "3       4     43.25\n",
              "4       5     46.42\n",
              "5       6     45.16\n",
              "6       7     45.17\n",
              "7       8     42.48\n",
              "8       9     47.70\n",
              "9      10     36.62\n",
              "10     11     39.06\n",
              "11     12     34.59\n",
              "12     13     45.96\n",
              "13     14     41.19\n",
              "14     15     35.81\n",
              "15     16     32.56\n",
              "16     17     40.06\n",
              "17     18     42.09\n",
              "18     19     39.30\n",
              "19     20     40.37\n",
              "20     21     41.92\n",
              "21     22     40.90\n",
              "22     23     38.43\n",
              "23     24     34.09\n",
              "24     25     38.81\n",
              "25     26     40.00\n",
              "26     27     38.90\n",
              "27     28     40.38\n",
              "28     29     32.98\n",
              "29     30     35.59\n",
              "30     31     44.00\n",
              "31     32     34.85\n",
              "32     33     33.41\n",
              "33     34     30.56\n",
              "34     35     37.94\n",
              "35     36     29.38\n",
              "36     37     37.03\n",
              "37     38     34.00\n",
              "38     39     35.40\n",
              "39     40     33.44\n",
              "40     41     33.04\n",
              "41     42     33.55\n",
              "42     43     35.91\n",
              "43     44     36.81\n",
              "44     45     32.04\n",
              "45     46     32.30\n",
              "46     47     29.93\n",
              "47     48     28.43\n",
              "48     49     35.34\n",
              "49     50     30.64"
            ]
          },
          "metadata": {
            "tags": []
          },
          "execution_count": 2
        }
      ]
    },
    {
      "cell_type": "markdown",
      "metadata": {
        "id": "PAR8lO4zMxzF"
      },
      "source": [
        ""
      ]
    },
    {
      "cell_type": "code",
      "metadata": {
        "id": "pYsFvm1dPygj",
        "outputId": "73f9dca0-c4eb-48c4-983d-4a77639ab957",
        "colab": {
          "base_uri": "https://localhost:8080/",
          "height": 197
        }
      },
      "source": [
        "#Print the top 5 rows\n",
        "coffe_headfive = coffee_imp.head(5)\n",
        "coffe_headfive"
      ],
      "execution_count": 4,
      "outputs": [
        {
          "output_type": "execute_result",
          "data": {
            "text/html": [
              "<div>\n",
              "<style scoped>\n",
              "    .dataframe tbody tr th:only-of-type {\n",
              "        vertical-align: middle;\n",
              "    }\n",
              "\n",
              "    .dataframe tbody tr th {\n",
              "        vertical-align: top;\n",
              "    }\n",
              "\n",
              "    .dataframe thead th {\n",
              "        text-align: right;\n",
              "    }\n",
              "</style>\n",
              "<table border=\"1\" class=\"dataframe\">\n",
              "  <thead>\n",
              "    <tr style=\"text-align: right;\">\n",
              "      <th></th>\n",
              "      <th>Drink</th>\n",
              "      <th>Caffeine</th>\n",
              "    </tr>\n",
              "  </thead>\n",
              "  <tbody>\n",
              "    <tr>\n",
              "      <th>0</th>\n",
              "      <td>1</td>\n",
              "      <td>47.32</td>\n",
              "    </tr>\n",
              "    <tr>\n",
              "      <th>1</th>\n",
              "      <td>2</td>\n",
              "      <td>43.78</td>\n",
              "    </tr>\n",
              "    <tr>\n",
              "      <th>2</th>\n",
              "      <td>3</td>\n",
              "      <td>48.12</td>\n",
              "    </tr>\n",
              "    <tr>\n",
              "      <th>3</th>\n",
              "      <td>4</td>\n",
              "      <td>43.25</td>\n",
              "    </tr>\n",
              "    <tr>\n",
              "      <th>4</th>\n",
              "      <td>5</td>\n",
              "      <td>46.42</td>\n",
              "    </tr>\n",
              "  </tbody>\n",
              "</table>\n",
              "</div>"
            ],
            "text/plain": [
              "   Drink  Caffeine\n",
              "0      1     47.32\n",
              "1      2     43.78\n",
              "2      3     48.12\n",
              "3      4     43.25\n",
              "4      5     46.42"
            ]
          },
          "metadata": {
            "tags": []
          },
          "execution_count": 4
        }
      ]
    },
    {
      "cell_type": "markdown",
      "metadata": {
        "id": "wOQ-9E8uYcni"
      },
      "source": [
        "###2) Calculate the mean, SD, SE caffeiene content and n for the sample.  Summarize your results in a sentence or two."
      ]
    },
    {
      "cell_type": "code",
      "metadata": {
        "id": "m1vuFGxVQo64",
        "outputId": "ee5a1e56-ffa9-4d3b-d4c1-458167029338",
        "colab": {
          "base_uri": "https://localhost:8080/",
          "height": 70
        }
      },
      "source": [
        "#Calculations here\n",
        "#the mean of the Top 5 row\n",
        "coffe_headfive.mean()"
      ],
      "execution_count": 5,
      "outputs": [
        {
          "output_type": "execute_result",
          "data": {
            "text/plain": [
              "Drink        3.000\n",
              "Caffeine    45.778\n",
              "dtype: float64"
            ]
          },
          "metadata": {
            "tags": []
          },
          "execution_count": 5
        }
      ]
    },
    {
      "cell_type": "code",
      "metadata": {
        "id": "GA9_C9FMOTOZ",
        "outputId": "1547373b-fe14-4ce9-8aaa-4dd1a722cbae",
        "colab": {
          "base_uri": "https://localhost:8080/",
          "height": 70
        }
      },
      "source": [
        "#Standard deviation;\n",
        "coffe_std = coffe_headfive.std()\n",
        "coffe_std"
      ],
      "execution_count": 8,
      "outputs": [
        {
          "output_type": "execute_result",
          "data": {
            "text/plain": [
              "Drink       1.581139\n",
              "Caffeine    2.159727\n",
              "dtype: float64"
            ]
          },
          "metadata": {
            "tags": []
          },
          "execution_count": 8
        }
      ]
    },
    {
      "cell_type": "code",
      "metadata": {
        "id": "0wFGbwFHOdeD",
        "outputId": "fdf372b0-aa2d-44f3-daa9-89229cbd97d1",
        "colab": {
          "base_uri": "https://localhost:8080/",
          "height": 70
        }
      },
      "source": [
        "#The sample count \n",
        "coffe_count = coffe_headfive.count()\n",
        "coffe_count"
      ],
      "execution_count": 9,
      "outputs": [
        {
          "output_type": "execute_result",
          "data": {
            "text/plain": [
              "Drink       5\n",
              "Caffeine    5\n",
              "dtype: int64"
            ]
          },
          "metadata": {
            "tags": []
          },
          "execution_count": 9
        }
      ]
    },
    {
      "cell_type": "code",
      "metadata": {
        "id": "DPl7Yu2dOmtP",
        "outputId": "205808ae-4d6d-4eaa-b75a-a5e43b63c30a",
        "colab": {
          "base_uri": "https://localhost:8080/",
          "height": 70
        }
      },
      "source": [
        "#The standard error for the top five sample:\n",
        "coffe_headfive_SE = coffe_std/(coffe_count**(1/2))\n",
        "coffe_headfive_SE"
      ],
      "execution_count": 10,
      "outputs": [
        {
          "output_type": "execute_result",
          "data": {
            "text/plain": [
              "Drink       0.707107\n",
              "Caffeine    0.965859\n",
              "dtype: float64"
            ]
          },
          "metadata": {
            "tags": []
          },
          "execution_count": 10
        }
      ]
    },
    {
      "cell_type": "markdown",
      "metadata": {
        "id": "y2Rz-8O-YmF9"
      },
      "source": [
        "Based on the various test statistics, it can be noted that on average of 3 drinks, and about 2 drinks on average are caffiene. The standard deviation explains the count between each drink within an average to be 1.6, and about 2.2 for caffienated drinks. There is possible standard error of 0.70, and 0.96 for the number of drinks and caffienated drinks."
      ]
    },
    {
      "cell_type": "markdown",
      "metadata": {
        "id": "RySL5E7GEHGf"
      },
      "source": [
        "###3) Find t* for a 95% confidence interval.  \n",
        "\n",
        "Use the starter code below and fill in the degrees of freedom."
      ]
    },
    {
      "cell_type": "code",
      "metadata": {
        "id": "ti9x37XSQ_yL",
        "outputId": "8c788ea1-1e05-495f-84f1-9afd2c7c3758",
        "colab": {
          "base_uri": "https://localhost:8080/",
          "height": 34
        }
      },
      "source": [
        "from scipy.stats import t\n",
        "\n",
        "#Don't worry too much about where the 0.975 comes from.  It has to do\n",
        "#with wanting to determine the *middle* 95% of the t-distribution\n",
        "#We're going to learn\n",
        "#how to calculate a 95% CI this easy way in just a minute.\n",
        "\n",
        "#Recall that n = 223 for the body temp problem.\n",
        "\n",
        "#The degree of freedom is equal to n -1\n",
        "#The confident interval was changed to 0.93\n",
        "t_star = t.ppf(0.95,df=222)\n",
        "print('t_star =', t_star)"
      ],
      "execution_count": 14,
      "outputs": [
        {
          "output_type": "stream",
          "text": [
            "t_star = 1.6517463586794643\n"
          ],
          "name": "stdout"
        }
      ]
    },
    {
      "cell_type": "code",
      "metadata": {
        "id": "p48Sr2z2UYql"
      },
      "source": [
        ""
      ],
      "execution_count": null,
      "outputs": []
    },
    {
      "cell_type": "markdown",
      "metadata": {
        "id": "AddooPk1JBvQ"
      },
      "source": [
        "###4) Calculate the margin of error for a 95% confidence interval for the mean caffeine content in a 12-oz Coke.\n",
        "\n"
      ]
    },
    {
      "cell_type": "code",
      "metadata": {
        "id": "IjjYtXodJW-b"
      },
      "source": [
        "#Calculations of the Margin of error for a 95%\n",
        "#The margin of error, similar to reported errors found within distribution boundaries,\n",
        "#for example where data may carry different attribute to cause there to be differences within ratios.import mat"
      ],
      "execution_count": null,
      "outputs": []
    },
    {
      "cell_type": "code",
      "metadata": {
        "id": "58BTGNjcUZ-1",
        "outputId": "618777b6-cc1b-4a80-bdf7-2944212dcae9",
        "colab": {
          "base_uri": "https://localhost:8080/",
          "height": 70
        }
      },
      "source": [
        "#Margin of error:\n",
        "import math\n",
        "z_critical = stats.norm.ppf(q = 0.95) \n",
        "#The stats.py provided the critical z-score\n",
        "#sample standard deviation is applied within the margin of error\n",
        "#it based on the z-score multiplied by the standard deviation divided by\n",
        "# the square root of the length of the sample\n",
        "margin_of_error = z_critical * (coffe_std/ math.sqrt(len(coffe_headfive)))\n",
        "margin_of_error\n"
      ],
      "execution_count": 16,
      "outputs": [
        {
          "output_type": "execute_result",
          "data": {
            "text/plain": [
              "Drink       1.163087\n",
              "Caffeine    1.588697\n",
              "dtype: float64"
            ]
          },
          "metadata": {
            "tags": []
          },
          "execution_count": 16
        }
      ]
    },
    {
      "cell_type": "markdown",
      "metadata": {
        "id": "ePBmVZU7N2nq"
      },
      "source": [
        "The margin of error for the sample of drinks is approximately 1.16. There is a margin of error of caffeine drinks, 1.59. The margin of error gives an idea of how far off our estimates might be (with 95% conficence). We're trying to supply a plausible range for our parameter of interest (the true average of drinks and caffiene drinks)\n"
      ]
    },
    {
      "cell_type": "code",
      "metadata": {
        "id": "-dvIZ1MNWslB",
        "outputId": "ac00a251-8272-4ed7-8f60-9b546dc91454",
        "colab": {
          "base_uri": "https://localhost:8080/",
          "height": 34
        }
      },
      "source": [
        "# Margin of error for body temperature\n",
        "t_star * 0.035 "
      ],
      "execution_count": 17,
      "outputs": [
        {
          "output_type": "execute_result",
          "data": {
            "text/plain": [
              "0.057811122553781256"
            ]
          },
          "metadata": {
            "tags": []
          },
          "execution_count": 17
        }
      ]
    },
    {
      "cell_type": "code",
      "metadata": {
        "id": "Vf38pdJVXEAB",
        "outputId": "81991cb0-9f3b-47cf-9f02-028688936b60",
        "colab": {
          "base_uri": "https://localhost:8080/",
          "height": 34
        }
      },
      "source": [
        "#Margin of error for coffee sample:\n",
        "coff_star = t.ppf(0.95 , df =4)\n",
        "#t-score printed for coffe sample\n",
        "print(coff_star)"
      ],
      "execution_count": 18,
      "outputs": [
        {
          "output_type": "stream",
          "text": [
            "2.13184678133629\n"
          ],
          "name": "stdout"
        }
      ]
    },
    {
      "cell_type": "code",
      "metadata": {
        "id": "SuMmMWicXqAu",
        "outputId": "1410a82b-6a32-4f15-9020-2b92f8c46e00",
        "colab": {
          "base_uri": "https://localhost:8080/",
          "height": 34
        }
      },
      "source": [
        "#Margin of error \n",
        "margin_err_coffee = coff_star * 0.035 \n",
        "margin_err_coffee"
      ],
      "execution_count": 21,
      "outputs": [
        {
          "output_type": "execute_result",
          "data": {
            "text/plain": [
              "0.07461463734677015"
            ]
          },
          "metadata": {
            "tags": []
          },
          "execution_count": 21
        }
      ]
    },
    {
      "cell_type": "markdown",
      "metadata": {
        "id": "900zy7QtXg-c"
      },
      "source": [
        "There is different margin of error for the t-score provided of the drink/coffee sample. The margin error according to the t-score, is approximately 0.075."
      ]
    },
    {
      "cell_type": "markdown",
      "metadata": {
        "id": "nkwymGvGVVBq"
      },
      "source": [
        ""
      ]
    },
    {
      "cell_type": "markdown",
      "metadata": {
        "id": "AtGASqgxYp5t"
      },
      "source": [
        "###5) Calculate a 95% CI for the mean caffeine content in a 12-oz fountain Coke with the CI formula using the summary statistics and t* that you calculated above."
      ]
    },
    {
      "cell_type": "code",
      "metadata": {
        "id": "dCKAW1fSaewo",
        "outputId": "d1346a1a-0610-45a1-ac22-c24e701fd2c8",
        "colab": {
          "base_uri": "https://localhost:8080/",
          "height": 34
        }
      },
      "source": [
        "#confidence interval with formula:\n",
        "caff_sampleMean = coffe_headfive['Caffeine'].mean()\n",
        "#This is added and subtracted from the margin of error:\n",
        "LowCI = caff_sampleMean - margin_err_coffee\n",
        "#This provides the confidence interval for the lower qaudrants based on \n",
        "#the subtraction\n",
        "LowCI"
      ],
      "execution_count": 22,
      "outputs": [
        {
          "output_type": "execute_result",
          "data": {
            "text/plain": [
              "45.70338536265323"
            ]
          },
          "metadata": {
            "tags": []
          },
          "execution_count": 22
        }
      ]
    },
    {
      "cell_type": "code",
      "metadata": {
        "id": "LRUi18gObscd",
        "outputId": "5da81e8c-11b0-4183-e845-444eaf5d924c",
        "colab": {
          "base_uri": "https://localhost:8080/",
          "height": 34
        }
      },
      "source": [
        "UpperCI = caff_sampleMean + margin_err_coffee\n",
        "UpperCI\n",
        "#This is the confidence interval within the upper levels of confidence\n",
        "#because the margin error was added to the sample mean."
      ],
      "execution_count": 23,
      "outputs": [
        {
          "output_type": "execute_result",
          "data": {
            "text/plain": [
              "45.85261463734677"
            ]
          },
          "metadata": {
            "tags": []
          },
          "execution_count": 23
        }
      ]
    },
    {
      "cell_type": "markdown",
      "metadata": {
        "id": "gAKJlaMyEzVz"
      },
      "source": [
        "###6) Calculate a 95% CI for the mean caffeiene content in a 12-oz fountain Coke using the t-interval function in Python."
      ]
    },
    {
      "cell_type": "code",
      "metadata": {
        "id": "GSo4uKWVFKwQ"
      },
      "source": [
        "#Calculations here"
      ],
      "execution_count": null,
      "outputs": []
    },
    {
      "cell_type": "code",
      "metadata": {
        "id": "JPUE0osGEw0M",
        "outputId": "b4ad53da-092c-4c02-a5ca-8bb78b8564a5",
        "colab": {
          "base_uri": "https://localhost:8080/",
          "height": 34
        }
      },
      "source": [
        "#Calculations\n",
        "#Start by calculating the t-interval\n",
        "#mean for Caffiene:\n",
        "coffee_mean = coffe_headfive['Caffeine'].mean()\n",
        "#Standard deviation for caffiene:\n",
        "sd_caffiene = coffe_headfive['Caffeine'].std()\n",
        "#Standard error for caffiene:\n",
        "se_caffiene= sd_caffiene/(len(coffe_headfive['Caffeine'])**(1/2))\n",
        "#The confidence intervals based on the t-interval function in python:\n",
        "t_interval = t.interval( alpha =0.95, df = 4, loc =coffee_mean, scale = se_caffiene )\n",
        "print(t_interval)"
      ],
      "execution_count": null,
      "outputs": [
        {
          "output_type": "stream",
          "text": [
            "(43.09634494354886, 48.45965505645114)\n"
          ],
          "name": "stdout"
        }
      ]
    },
    {
      "cell_type": "markdown",
      "metadata": {
        "id": "8oD8lp84YyvU"
      },
      "source": [
        "###7) Compare the two confidence intervals you calculated.  Do they match?  Should they?"
      ]
    },
    {
      "cell_type": "markdown",
      "metadata": {
        "id": "mBMX1NAIFT88"
      },
      "source": [
        "The two confidence intervals are within close proximity. However, the t-interval functions provides a confidence interval values that is a scale 2.0 less, and approximately 2.3 more. This justifies the margin of error that was being observed."
      ]
    },
    {
      "cell_type": "markdown",
      "metadata": {
        "id": "-2ulIAGmYudp"
      },
      "source": [
        "###8) Interpret the meaning of the 95% confidence interval for the mean caffeiene content in a 12-oz fountain Coke. in a sentence or two."
      ]
    },
    {
      "cell_type": "code",
      "metadata": {
        "id": "vtz3nxotdB3n"
      },
      "source": [
        ""
      ],
      "execution_count": null,
      "outputs": []
    },
    {
      "cell_type": "markdown",
      "metadata": {
        "id": "hD5HloatYxoh"
      },
      "source": [
        "Based on the t-interval function, we can be 95% confidence that the mean caffienated drink will be between 43.10 and 48.5. There is a margin of error of approximately 0.07."
      ]
    },
    {
      "cell_type": "code",
      "metadata": {
        "id": "bDGg-nEsdC8C"
      },
      "source": [
        ""
      ],
      "execution_count": null,
      "outputs": []
    },
    {
      "cell_type": "markdown",
      "metadata": {
        "id": "SpqgKQfTYvF0"
      },
      "source": [
        "###9) Using the t-interval Python function, calculate a 90% confidence interval for the mean caffeine content in a 12-oz Coke.  Is this estimate more accurate or more precise (pick one) than the 95% confidence interval?\n",
        "\n"
      ]
    },
    {
      "cell_type": "code",
      "metadata": {
        "id": "r1y1LE_dPAi6",
        "outputId": "84fa423f-7a1a-4f74-8452-38d739a05b78",
        "colab": {
          "base_uri": "https://localhost:8080/",
          "height": 34
        }
      },
      "source": [
        "#Calculations\n",
        "#90% confidence interval:\n",
        "t.interval(alpha =0.90, df =4, loc = caff_sampleMean, scale = se_caffiene)"
      ],
      "execution_count": 24,
      "outputs": [
        {
          "output_type": "execute_result",
          "data": {
            "text/plain": [
              "(43.71893616688226, 47.83706383311774)"
            ]
          },
          "metadata": {
            "tags": []
          },
          "execution_count": 24
        }
      ]
    },
    {
      "cell_type": "markdown",
      "metadata": {
        "id": "7WIQtB0PGJP4"
      },
      "source": [
        "The estimate is more accurate, than precise, because of lower confidence percentage. Based on the t-interval function, we can be 90% confident that caffience drinks will be between 43.71 and 47.84."
      ]
    },
    {
      "cell_type": "markdown",
      "metadata": {
        "id": "hQsmY8RnHKJf"
      },
      "source": [
        "###10) Using the t-interval Python function, calculate a 99% confidence interval for the mean caffeine content in a 12-oz Coke.  Is this estimate more accurate or more precise (pick one) than the 95% confidence interval?\n",
        "\n"
      ]
    },
    {
      "cell_type": "code",
      "metadata": {
        "id": "YrKq5pXYPNnK",
        "outputId": "6c5b85b7-aeae-4dd7-a37a-3b0a05588770",
        "colab": {
          "base_uri": "https://localhost:8080/",
          "height": 34
        }
      },
      "source": [
        "#Calculations\n",
        "#99% confidence interval:\n",
        "t.interval(alpha =0.99 ,df =4,  loc = caff_sampleMean, scale = se_caffiene)"
      ],
      "execution_count": 27,
      "outputs": [
        {
          "output_type": "execute_result",
          "data": {
            "text/plain": [
              "(41.33109259700504, 50.22490740299496)"
            ]
          },
          "metadata": {
            "tags": []
          },
          "execution_count": 27
        }
      ]
    },
    {
      "cell_type": "markdown",
      "metadata": {
        "id": "liduCGIkJAC2"
      },
      "source": [
        "The results are considered to be more precise, because we can have a higher percentage of confidence. We can be 99% confidence that mean caffiene drink will be between 41.3 and 50.2. This mean that the statistics assures that there is higher probability of experiencing caffiene averages within those proportions."
      ]
    },
    {
      "cell_type": "markdown",
      "metadata": {
        "id": "9tIHBlM_SyGR"
      },
      "source": [
        "## Stretch goals:\n",
        "\n",
        "###1) The correspondence between confidence intervals and hypothesis tests.\n",
        "\n",
        "Read [this](https://https://blog.minitab.com/blog/adventures-in-statistics-2/understanding-hypothesis-tests-confidence-intervals-and-confidence-levels#:~:text=If%20a%20hypothesis%20test%20produces,corresponding%20confidence%20level%20is%2095%25.&text=If%20the%20confidence%20interval%20does,the%20results%20are%20statistically%20significant.) article about the correspondence between confidence intervals and hypothesis tests.  Feel free to read the whole article, but the relevant part can be found under the heading Why P Values and Confidence Intervals Always Agree About Statistical Significance.\n",
        "\n",
        "Imagine you work for quality control at Coke and are tasked with making sure that the caffeiene content in the fountain beverages served in restaurants is the same as in a 12-oz can of Coke (34mg).  If you believe that the mean caffeiene content in fountain coke is not 34mg, you must re-train the franchise managers to make sure the Coke served has the correct caffeiene level.\n",
        "\n",
        "Based on the confidence interval you calculated in the assignment, do you believe that the mean caffeiene content is statistically significantly different from 34 mg in a 12-oz serving?\n"
      ]
    },
    {
      "cell_type": "markdown",
      "metadata": {
        "id": "4Aa3df-_LgnT"
      },
      "source": [
        "Yes, because the 34 mg fall below the qauntity of the low confidence level, and upper confidence levels. This significantly different because the large deviation from the two measures."
      ]
    },
    {
      "cell_type": "markdown",
      "metadata": {
        "id": "Ne4k2kd3LhfV"
      },
      "source": [
        "###2) If we increased the sample size from 50 to 100 but the sample mean and SD remained the same, describe **two** ways the margin of error would change.  Would the margin of error become smaller or larger?"
      ]
    },
    {
      "cell_type": "markdown",
      "metadata": {
        "id": "6lVcoTU6L5Pg"
      },
      "source": [
        "The increase samples provides a greater ratio to validate the conficence intervals. There are more data to increase accuracy, and results may be more precise if there larger frequency expressed within the data."
      ]
    },
    {
      "cell_type": "code",
      "metadata": {
        "id": "PQkk3nu4L4vu",
        "outputId": "46b71ec9-8a6f-4fef-8890-28085671d2aa",
        "colab": {
          "base_uri": "https://localhost:8080/",
          "height": 34
        }
      },
      "source": [
        "#Calculations here.\n",
        "coff_starfifty = t.ppf( 0.95, df = 49) #t-stats for sample of 50 because of the increase of degree of freedom\n",
        "coff_starfifty"
      ],
      "execution_count": 28,
      "outputs": [
        {
          "output_type": "execute_result",
          "data": {
            "text/plain": [
              "1.6765508919142629"
            ]
          },
          "metadata": {
            "tags": []
          },
          "execution_count": 28
        }
      ]
    },
    {
      "cell_type": "code",
      "metadata": {
        "id": "z8P7m9Z7iR8K",
        "outputId": "e6e2e836-2cee-41bd-a0e2-1638675aa8fe",
        "colab": {
          "base_uri": "https://localhost:8080/",
          "height": 34
        }
      },
      "source": [
        "coff_starhund = t.ppf(0.95, df =99)\n",
        "coff_starhund"
      ],
      "execution_count": 33,
      "outputs": [
        {
          "output_type": "execute_result",
          "data": {
            "text/plain": [
              "1.6603911559963895"
            ]
          },
          "metadata": {
            "tags": []
          },
          "execution_count": 33
        }
      ]
    },
    {
      "cell_type": "code",
      "metadata": {
        "id": "U1szW03RgcZh",
        "outputId": "5b9e25bd-e2db-42e5-88ce-f6e3614d31ee",
        "colab": {
          "base_uri": "https://localhost:8080/",
          "height": 34
        }
      },
      "source": [
        "coff_star #t-stats for sample 5"
      ],
      "execution_count": 29,
      "outputs": [
        {
          "output_type": "execute_result",
          "data": {
            "text/plain": [
              "2.13184678133629"
            ]
          },
          "metadata": {
            "tags": []
          },
          "execution_count": 29
        }
      ]
    },
    {
      "cell_type": "code",
      "metadata": {
        "id": "uqoPyqcOgg9i"
      },
      "source": [
        "#The t-stats for the sample of 50 is less than the t-stats \n",
        "#of the sample of 5. This is the first unit of measure that indicate that \n",
        "#there will be a difference within margin of error"
      ],
      "execution_count": null,
      "outputs": []
    },
    {
      "cell_type": "code",
      "metadata": {
        "id": "kyAui9YMhyBR",
        "outputId": "b5f74309-6459-4504-cc28-759480c82e70",
        "colab": {
          "base_uri": "https://localhost:8080/",
          "height": 34
        }
      },
      "source": [
        "margine_or_errfifty = coff_starfifty * 0.035\n",
        "margine_or_errfifty"
      ],
      "execution_count": 31,
      "outputs": [
        {
          "output_type": "execute_result",
          "data": {
            "text/plain": [
              "0.0586792812169992"
            ]
          },
          "metadata": {
            "tags": []
          },
          "execution_count": 31
        }
      ]
    },
    {
      "cell_type": "code",
      "metadata": {
        "id": "qBgOTPsNiNOc",
        "outputId": "3d2be03d-7b41-4554-c49d-457e513d6518",
        "colab": {
          "base_uri": "https://localhost:8080/",
          "height": 34
        }
      },
      "source": [
        "margine_orerrhund = coff_starhund * 0.035\n",
        "margine_orerrhund"
      ],
      "execution_count": 34,
      "outputs": [
        {
          "output_type": "execute_result",
          "data": {
            "text/plain": [
              "0.05811369045987364"
            ]
          },
          "metadata": {
            "tags": []
          },
          "execution_count": 34
        }
      ]
    },
    {
      "cell_type": "markdown",
      "metadata": {
        "id": "YRpdYXE9h9G3"
      },
      "source": [
        "The margin of error is less than the margin of error for the sample of 5 (this was approximately 0.07), as the sample size increased to 50 and 100. The larger sample had a margin of error within the close proximity (both were approximately 0.06)."
      ]
    },
    {
      "cell_type": "markdown",
      "metadata": {
        "id": "5bZ8LyiQXnpO"
      },
      "source": [
        "Compare MEs here.\n",
        "\n"
      ]
    }
  ]
}